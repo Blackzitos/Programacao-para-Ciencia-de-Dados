{
  "cells": [
    {
      "cell_type": "markdown",
      "metadata": {
        "id": "view-in-github",
        "colab_type": "text"
      },
      "source": [
        "<a href=\"https://colab.research.google.com/github/Blackzitos/EstudosIndependentesLista1/blob/main/ListaExerc%C3%ADcios1.ipynb\" target=\"_parent\"><img src=\"https://colab.research.google.com/assets/colab-badge.svg\" alt=\"Open In Colab\"/></a>"
      ]
    },
    {
      "cell_type": "code",
      "execution_count": null,
      "metadata": {
        "id": "QlDcF1vPj9cK"
      },
      "outputs": [],
      "source": [
        "#1\n",
        "import math\n",
        "\n",
        "x = int(input(\"número: \"))\n",
        "\n",
        "if x > 0:\n",
        "  print(math.sqrt(x))\n",
        "else:\n",
        "  print(\"nmr não é positivo\")"
      ]
    },
    {
      "cell_type": "code",
      "execution_count": null,
      "metadata": {
        "id": "vQEtYvlPkh6R"
      },
      "outputs": [],
      "source": [
        "#2\n",
        "x = int(input(\"número: \"))\n",
        "\n",
        "if x % 2 == 0:\n",
        "  print(\"par\")\n",
        "else:\n",
        "  print(\"impar\")"
      ]
    },
    {
      "cell_type": "code",
      "execution_count": null,
      "metadata": {
        "id": "zKsBLDcalOvP"
      },
      "outputs": [],
      "source": [
        "#3\n",
        "x1 = int(input(\"nmr1: \"))\n",
        "x2 = int(input(\"nmr2: \"))\n",
        "\n",
        "if x1 > x2:\n",
        "  print(f\"{x1} é o maior\")\n",
        "  dif = x1 - x2\n",
        "  print(f\"A diferença entre x1 e x2 é de {dif}\")\n",
        "elif x2 > x1:\n",
        "  print(f\"{x2} é o maior\")\n",
        "  dif = x2 - x1\n",
        "  print(f\"A diferença entre x2 e x1 é de {dif}\")\n",
        "else:\n",
        "  print(\"nmrs iguais\")\n",
        "\n"
      ]
    },
    {
      "cell_type": "code",
      "execution_count": null,
      "metadata": {
        "id": "C5o81gvq4ci7"
      },
      "outputs": [],
      "source": [
        "#4\n",
        "def calcular_Acertos(lg, lr):\n",
        "  questoes_Corretas = 0\n",
        "  i = 0\n",
        "  for i in range(nmr_Q):\n",
        "    if lg[i] == lr[i]:\n",
        "      questoes_Corretas += 1\n",
        "  return questoes_Corretas\n",
        "\n",
        "nmr_Q = int(input(\"Número de questões: \"))\n",
        "lg = []\n",
        "for i in range(nmr_Q):\n",
        "  gabarito = \"\"\n",
        "  while gabarito not in ['A', 'B', 'C', 'D', 'E']:\n",
        "        gabarito = input(f\"Gabarito questão {i+1} (A/B/C/D/E): \").upper()\n",
        "        if gabarito not in ['A', 'B', 'C', 'D', 'E']:\n",
        "            print(\"Opção inválida. Digite A, B, C, D ou E.\")\n",
        "  lg.append(gabarito)\n",
        "\n",
        "mais_Alunos = True\n",
        "while mais_Alunos:\n",
        "  Aluno = input(\"Nome do aluno:\")\n",
        "  lr = []\n",
        "  for i in range(nmr_Q):\n",
        "    resposta = \"\"\n",
        "    while resposta not in ['A', 'B', 'C', 'D', 'E']:\n",
        "      resposta = input(f\"Resposta questão {i+1} (A/B/C/D/E): \").upper()\n",
        "      if resposta not in ['A', 'B', 'C', 'D', 'E']:\n",
        "        print(\"Opção inválida. Digite A, B, C, D ou E.\")\n",
        "    lr.append(resposta)\n",
        "\n",
        "  questoes_Corretas_Aluno = calcular_Acertos(lg, lr)\n",
        "  media = round((questoes_Corretas_Aluno/nmr_Q)*100)\n",
        "  print(f\"O aluno: {Aluno}, acertou {questoes_Corretas_Aluno} questões e ficou com média: {media}\")\n",
        "\n",
        "  mais = input(\"Existem mais alunos para terem o número de acertos calculados?(S/n)\").upper()\n",
        "  if mais != \"S\" and mais != \"\":\n",
        "    mais_Alunos = False"
      ]
    },
    {
      "cell_type": "code",
      "execution_count": null,
      "metadata": {
        "id": "3sKRPby4L3wa"
      },
      "outputs": [],
      "source": [
        "#5\n",
        "class Produto():\n",
        "    def __init__(self, codigo, nome, valor):\n",
        "        self.codigo = codigo\n",
        "        self.nome = nome\n",
        "        self.valor = valor\n",
        "\n",
        "class Sistema_Venda():\n",
        "    def __init__(self):\n",
        "        self.Produtos = {\n",
        "            1: Produto(1, \"Maçã\", 7.99),\n",
        "            2: Produto(2, \"Pera\", 10.99),\n",
        "            3: Produto(3, \"Banana\", 5.99),\n",
        "            4: Produto(4, \"Sucrilhos\", 8.59),\n",
        "            5: Produto(5, \"Chocolate\", 4.99),\n",
        "            6: Produto(6, \"Coca-cola\", 7.99)\n",
        "        }\n",
        "        self.Carrinho = {}\n",
        "\n",
        "    def adicionar_ao_carrinho(self, codigo, quantidade):\n",
        "        if codigo in self.Produtos and quantidade > 0:\n",
        "            if codigo in self.Carrinho:\n",
        "                self.Carrinho[codigo] += quantidade\n",
        "            else:\n",
        "                self.Carrinho[codigo] = quantidade\n",
        "                print(f\"{quantidade} unidades do produto {self.Produtos[codigo].nome} foram adicionadas ao carrinho.\")\n",
        "        else:\n",
        "            print(\"Produto não encontrado ou quantidade inválida.\")\n",
        "\n",
        "    def calcular_preco_total(self):\n",
        "        total = 0\n",
        "        for codigo, quantidade in self.Carrinho.items():\n",
        "            total += self.Produtos[codigo].valor * quantidade\n",
        "        return total\n",
        "\n",
        "    def mostrar_carrinho(self):\n",
        "        print(\"Carrinho de Compras:\")\n",
        "        for codigo, quantidade in self.Carrinho.items():\n",
        "            produto = self.Produtos[codigo]\n",
        "            print(f\"{produto.nome} - Quantidade: {quantidade} - Valor Unitário: R${produto.valor:.2f} - Valor Total: R${produto.valor * quantidade:.2f}\")\n",
        "        print(\"-\" * 30)\n",
        "\n",
        "sistema = Sistema_Venda()\n",
        "\n",
        "continuar_compra = \"s\"\n",
        "\n",
        "while continuar_compra.lower() == \"s\":\n",
        "    print(\"Lista de produtos:\")\n",
        "    for codigo, produto in sistema.Produtos.items():\n",
        "        print(f\"{codigo}: {produto.nome} - R${produto.valor:.2f}\")\n",
        "\n",
        "    opcao = input(\"Digite 'c' para mostrar o carrinho, ou informe o código do produto que deseja adicionar ao carrinho: \")\n",
        "\n",
        "    if opcao.lower() == 'c':\n",
        "        sistema.mostrar_carrinho()\n",
        "    else:\n",
        "        codigo_produto = int(opcao)\n",
        "        quantidade = int(input(\"Informe a quantidade desejada: \"))\n",
        "        sistema.adicionar_ao_carrinho(codigo_produto, quantidade)\n",
        "\n",
        "    continuar_compra = input(\"Deseja continuar comprando? (s/n): \")\n",
        "\n",
        "preco_total = sistema.calcular_preco_total()\n",
        "print(f\"O preço total do carrinho é: R${preco_total:.2f}\")\n",
        "sistema.mostrar_carrinho()\n"
      ]
    }
  ],
  "metadata": {
    "colab": {
      "provenance": [],
      "authorship_tag": "ABX9TyPGFAPt/8kd/YTH9swviEVi",
      "include_colab_link": true
    },
    "kernelspec": {
      "display_name": "Python 3",
      "name": "python3"
    },
    "language_info": {
      "name": "python"
    }
  },
  "nbformat": 4,
  "nbformat_minor": 0
}