{
  "nbformat": 4,
  "nbformat_minor": 0,
  "metadata": {
    "colab": {
      "provenance": [],
      "authorship_tag": "ABX9TyOHkSovcR5lxw09NJ7+1uOs",
      "include_colab_link": true
    },
    "kernelspec": {
      "name": "python3",
      "display_name": "Python 3"
    },
    "language_info": {
      "name": "python"
    }
  },
  "cells": [
    {
      "cell_type": "markdown",
      "metadata": {
        "id": "view-in-github",
        "colab_type": "text"
      },
      "source": [
        "<a href=\"https://colab.research.google.com/github/Blackzitos/Programacao-para-Ciencia-de-Dados/blob/main/ListaExerc%C3%ADcios2.ipynb\" target=\"_parent\"><img src=\"https://colab.research.google.com/assets/colab-badge.svg\" alt=\"Open In Colab\"/></a>"
      ]
    },
    {
      "cell_type": "code",
      "source": [
        "#1\n",
        "with open(\"GABARITO.txt\", \"r\") as gabarito_Arquivo:\n",
        "    gabarito = gabarito_Arquivo.readline().strip().split(\"-\")\n",
        "\n",
        "with open(\"RESPOSTAS.txt\", \"r\") as respostas_Arquivo:\n",
        "    linhas_Respostas = respostas_Arquivo.readlines()\n",
        "\n",
        "with open(\"RESULTADOS.txt\", \"w\") as resultados_Arquivo:\n",
        "    for linha_Respostas in linhas_Respostas:\n",
        "        partes = linha_Respostas.strip().split(\";\")\n",
        "        nome = partes[0]\n",
        "        respostas_Aluno = partes[1]\n",
        "\n",
        "        respostas_Aluno = respostas_Aluno.strip().split(\"-\")\n",
        "\n",
        "        acertos = 0\n",
        "\n",
        "        for i in range(len(gabarito)):\n",
        "            if respostas_Aluno[i] == gabarito[i]:\n",
        "                acertos += 1\n",
        "\n",
        "        resultados_Arquivo.write(f\"{nome};{partes[1]};{acertos}\\n\")\n",
        "\n",
        "print(\"Processamento concluído. Verifique o arquivo RESULTADOS.txt para os resultados\")\n"
      ],
      "metadata": {
        "id": "Sn5w497I0IqT"
      },
      "execution_count": null,
      "outputs": []
    },
    {
      "cell_type": "code",
      "source": [
        "#2\n",
        "class Produto():\n",
        "    def __init__(self, codigo, nome, valor):\n",
        "        self.codigo = codigo\n",
        "        self.nome = nome\n",
        "        self.valor = valor\n",
        "\n",
        "class Sistema_Venda():\n",
        "    def __init__(self):\n",
        "        self.Produtos = {}\n",
        "        self.Carrinho = {}\n",
        "\n",
        "    def carregar_produtos(self, arquivo):\n",
        "        with open(\"PRODUTOS.txt\", \"r\") as produtos_Arquivo:\n",
        "            for linha in produtos_Arquivo:\n",
        "                codigo, nome, valor = linha.strip().split(\";\")\n",
        "                self.Produtos[int(codigo)] = Produto(int(codigo), nome.strip(), float(valor.strip()))\n",
        "\n",
        "    def adicionar_ao_carrinho(self, codigo, quantidade):\n",
        "        if codigo in self.Produtos and quantidade > 0:\n",
        "            if codigo in self.Carrinho:\n",
        "                self.Carrinho[codigo] += quantidade\n",
        "            else:\n",
        "                self.Carrinho[codigo] = quantidade\n",
        "                print(f\"{quantidade} unidades do produto {self.Produtos[codigo].nome} foram adicionadas ao carrinho.\")\n",
        "        else:\n",
        "            print(\"Produto não encontrado ou quantidade inválida.\")\n",
        "\n",
        "    def calcular_preco_total(self):\n",
        "        total = 0\n",
        "        for codigo, quantidade in self.Carrinho.items():\n",
        "            total += self.Produtos[codigo].valor * quantidade\n",
        "        return total\n",
        "\n",
        "    def mostrar_carrinho(self):\n",
        "        print(\"Carrinho de Compras:\")\n",
        "        for codigo, quantidade in self.Carrinho.items():\n",
        "            produto = self.Produtos[codigo]\n",
        "            print(f\"{produto.nome} - Quantidade: {quantidade} - Valor Unitário: R${produto.valor:.2f} - Valor Total: R${produto.valor * quantidade:.2f}\")\n",
        "        print(\"-\" * 30)\n",
        "\n",
        "sistema = Sistema_Venda()\n",
        "\n",
        "sistema.carregar_produtos(\"PRODUTOS.txt\")\n",
        "\n",
        "continuar_compra = \"s\"\n",
        "\n",
        "while continuar_compra.lower() == \"s\":\n",
        "    print(\"Lista de produtos: \")\n",
        "    for codigo, produto in sistema.Produtos.items():\n",
        "        print(f\"{codigo}: {produto.nome} - R${produto.valor:.2f}\")\n",
        "\n",
        "    opcao = input(\"Digite 'c' para mostrar o carrinho, ou informe o código do produto que deseja adicionar ao carrinho: \")\n",
        "\n",
        "    if opcao.lower() == 'c':\n",
        "        sistema.mostrar_carrinho()\n",
        "    else:\n",
        "        codigo_produto = int(opcao)\n",
        "        quantidade = int(input(\"Informe a quantidade: \"))\n",
        "        sistema.adicionar_ao_carrinho(codigo_produto, quantidade)\n",
        "\n",
        "    continuar_compra = input(\"Deseja continuar comprando? (S/n): \")\n",
        "\n",
        "if sistema.Carrinho:\n",
        "    preco_total = sistema.calcular_preco_total()\n",
        "    print(f\"O preço total do carrinho é: R${preco_total:.2f}\")\n",
        "    sistema.mostrar_carrinho()\n",
        "\n",
        "    with open(\"PRODUTO_SAIDA.txt\", \"w\") as produtoSaida_Arquivo:\n",
        "        for codigo, quantidade in sistema.Carrinho.items():\n",
        "            produto = sistema.Produtos[codigo]\n",
        "            produtoSaida_Arquivo.write(f\"{produto.nome} - Quantidade: {quantidade} - Valor Unitário: R${produto.valor:.2f} - Valor Total: R${produto.valor * quantidade}\\n\")\n",
        "        produtoSaida_Arquivo.write(f\"O preço total do carrinho é: R${preco_total:.2f}\\n\")\n",
        "\n",
        "    print(\"Informações gravadas no PRODUTO_SAIDA.txt.\")\n",
        "else:\n",
        "    print(\"Nenhum produto adicionado ao carrinho.\")\n"
      ],
      "metadata": {
        "id": "TgNFJiml7xRZ"
      },
      "execution_count": null,
      "outputs": []
    }
  ]
}