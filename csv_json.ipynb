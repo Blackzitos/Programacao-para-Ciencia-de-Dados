{
  "nbformat": 4,
  "nbformat_minor": 0,
  "metadata": {
    "colab": {
      "provenance": [],
      "authorship_tag": "ABX9TyNtra1Y11PTWVRNJz/rteH7",
      "include_colab_link": true
    },
    "kernelspec": {
      "name": "python3",
      "display_name": "Python 3"
    },
    "language_info": {
      "name": "python"
    }
  },
  "cells": [
    {
      "cell_type": "markdown",
      "metadata": {
        "id": "view-in-github",
        "colab_type": "text"
      },
      "source": [
        "<a href=\"https://colab.research.google.com/github/Blackzitos/Programacao-para-Ciencia-de-Dados/blob/main/csv_json.ipynb\" target=\"_parent\"><img src=\"https://colab.research.google.com/assets/colab-badge.svg\" alt=\"Open In Colab\"/></a>"
      ]
    },
    {
      "cell_type": "code",
      "source": [
        "import pandas as pd\n",
        "import json\n",
        "\n",
        "dados = pd.read_csv('dados2.csv')\n",
        "\n",
        "resultado = []\n",
        "\n",
        "for uf, cod_uf, cod_municip, nome_municipio, populacao in dados.itertuples(index=False):\n",
        "    entrada = {\n",
        "        \"uf\": uf,\n",
        "        \"cod_uf\": cod_uf,\n",
        "        \"municipios\": [\n",
        "            {\n",
        "                \"cod_municipio\": cod_municip,\n",
        "                \"nome_municipio\": nome_municipio,\n",
        "                \"populacao\": populacao\n",
        "            }\n",
        "        ]\n",
        "    }\n",
        "\n",
        "    entrada_existente = next((e for e in resultado if e[\"uf\"] == uf), None)\n",
        "    if entrada_existente:\n",
        "        entrada_existente[\"municipios\"].append(entrada[\"municipios\"][0])\n",
        "    else:\n",
        "        resultado.append(entrada)\n",
        "\n",
        "with open('json.json', 'w', encoding='utf-8') as jsonfile:\n",
        "    json.dump(resultado, jsonfile, indent=4)"
      ],
      "metadata": {
        "id": "58vuhusi-Df-"
      },
      "execution_count": null,
      "outputs": []
    }
  ]
}