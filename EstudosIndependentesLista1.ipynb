{
  "cells": [
    {
      "cell_type": "markdown",
      "metadata": {
        "id": "view-in-github",
        "colab_type": "text"
      },
      "source": [
        "<a href=\"https://colab.research.google.com/github/Blackzitos/EstudosIndependentesLista1/blob/main/EstudosIndependentesLista1.ipynb\" target=\"_parent\"><img src=\"https://colab.research.google.com/assets/colab-badge.svg\" alt=\"Open In Colab\"/></a>"
      ]
    },
    {
      "cell_type": "code",
      "execution_count": null,
      "metadata": {
        "colab": {
          "background_save": true,
          "base_uri": "https://localhost:8080/"
        },
        "id": "c_Y5myvsm57b",
        "outputId": "14ce7b4d-eb14-4b42-fc61-d71537860150"
      },
      "outputs": [
        {
          "name": "stdout",
          "output_type": "stream",
          "text": [
            "Digite os nomes das frutas para o primeiro conjunto separados por espaço:\n"
          ]
        }
      ],
      "source": [
        "\"\"\"Escreva um programa que leia do teclado dois conjuntos de nomes de frutas. Os\n",
        "conjuntos podem ter tamanhos variáveis. Em seguida, apresente na tela a união, a\n",
        "interseção e a diferença entre os conjuntos. Apresente também a diferença de\n",
        "número de elementos contidos entre os dois conjuntos.\"\"\"\n",
        "\n",
        "def conjunto_frutas():\n",
        "  ler = input(\"insira os nomes das frutas separados por espaço: \")\n",
        "  frutas = ler.split()\n",
        "  return set(frutas)\n",
        "\n",
        "print(\"Digite os nomes das frutas para o primeiro conjunto separados por espaço:\")\n",
        "conjunto1 = conjunto_frutas()\n",
        "\n",
        "print(\"Digite os nomes das frutas para o segundo conjunto separados por espaço:\")\n",
        "conjunto2 = conjunto_frutas()\n",
        "\n",
        "uniao = conjunto1 | conjunto2\n",
        "intersecao = conjunto1 & conjunto2\n",
        "diferenca1 = conjunto1 - conjunto2\n",
        "diferenca2 = conjunto2 - conjunto1\n",
        "diftamanho = abs(len(conjunto2) - len(conjunto1))\n",
        "\n",
        "print(\"União dos conjuntos:\", uniao)\n",
        "print(\"Interseção dos conjuntos:\", intersecao)\n",
        "print(\"Diferença conjunto1 - conjunto2:\", diferenca1)\n",
        "print(\"Diferença conjunto2 - conjunto1:\", diferenca2)\n",
        "print(\"Diferença de número de elementos:\", diferenca_numero_elementos)\n"
      ]
    },
    {
      "cell_type": "code",
      "execution_count": null,
      "metadata": {
        "id": "iU3A85djpaEH"
      },
      "outputs": [],
      "source": [
        "\"\"\"Escreva um programa que permaneça em um laço de repetição lendo números\n",
        "inteiros do teclado. Esse laço termina quando for digitado zero ou qualquer valor\n",
        "negativo. O programa deve contar quantas vezes cada valor positivo foi digitado. Ao\n",
        "término do laço de leitura, o programa deve mostrar quais valores foram digitados e\n",
        "quantas vezes cada um. Use um dicionário para resolver esse problema.\"\"\"\n",
        "\n",
        "contador = {}\n",
        "numero = 1\n",
        "\n",
        "while True:\n",
        "  numero = int(input(\"Digite um número: \"))\n",
        "\n",
        "  if numero <= 0:\n",
        "    break\n",
        "  if numero in contador:\n",
        "    contador[numero] += 1\n",
        "  else:\n",
        "    contador[numero] = 1\n",
        "\n",
        "for valor, contagem in contador.items():\n",
        "  print(f\"{valor}: {contagem} vezes\")\n"
      ]
    },
    {
      "cell_type": "code",
      "source": [
        "\"\"\"Escreva um programa que receba os nomes dos alunos e suas respectivas notas.\n",
        "Cada aluno possui duas notas de 0 (zero) até 100. Tais informações devem ser\n",
        "armazenadas em uma estrutura de dados. A quantidade de alunos para leitura deve\n",
        "ser informada no início do programa. Após a leitura dos dados, exiba as informações\n",
        "do aluno, contendo: Nome, Nota 1, Nota 2, Média (média entre Nota 1 e Nota 2) e a\n",
        "Situação do Aluno. A situação do aluno será “Aprovado(a)” se atingir a média 60.\n",
        "Caso contrário, estará “Reprovado(a)”.\n",
        "Exiba ainda, o número de alunos aprovados, o número de alunos reprovados,\n",
        "percentual de aprovação, percentual de reprovação e a média de notas da turma\n",
        "para Nota 1, Nota 2 e Média.\"\"\"\n",
        "\n",
        "def calcular_Nota(nota1, nota2):\n",
        "    media = (nota1 + nota2) / 2\n",
        "    if media >= 60:\n",
        "        return \"APROVADO\"\n",
        "    else:\n",
        "        return \"REPROVADO\"\n",
        "\n",
        "numero_Alunos = int(input(\"Digite o número de alunos: \"))\n",
        "alunos = []\n",
        "total_Aprovados = 0\n",
        "total_Reprovados = 0\n",
        "soma_Nota1 = 0\n",
        "soma_Nota2 = 0\n",
        "soma_Media = 0\n",
        "\n",
        "for i in range(numero_Alunos):\n",
        "    nome = input(f\"Digite o nome do aluno {i + 1}: \")\n",
        "\n",
        "    while True:\n",
        "        nota1 = float(input(f\"Digite a nota 1 do aluno {i + 1} (0~100): \"))\n",
        "        nota2 = float(input(f\"Digite a nota 2 do aluno {i + 1} (0~100): \"))\n",
        "\n",
        "        if 0 <= nota1 <= 100 and 0 <= nota2 <= 100:\n",
        "            break\n",
        "        else:\n",
        "            print(\"Notas fora do intervalo permitido (0-100). Tente novamente.\")\n",
        "\n",
        "    calculo_Nota = calcular_Nota(nota1, nota2)\n",
        "\n",
        "    if calculo_Nota == \"APROVADO\":\n",
        "        total_Aprovados += 1\n",
        "    else:\n",
        "        total_Reprovados += 1\n",
        "\n",
        "    soma_Nota1 += nota1\n",
        "    soma_Nota2 += nota2\n",
        "    soma_Media += (nota1 + nota2) / 2\n",
        "\n",
        "    alunos.append((nome, nota1, nota2, calculo_Nota))\n",
        "\n",
        "porcento_Aprovados = (total_Aprovados / numero_Alunos) * 100\n",
        "porcento_Reprovados = (total_Reprovados / numero_Alunos) * 100\n",
        "\n",
        "media_Nota1 = round(soma_Nota1 / numero_Alunos, 1)\n",
        "media_Nota2 = round(soma_Nota2 / numero_Alunos, 1)\n",
        "media_Media = round(soma_Media / numero_Alunos, 1)\n",
        "\n",
        "print(f\"Total de aprovados: {total_Aprovados}\")\n",
        "print(f\"Total de reprovados: {total_Reprovados}\")\n",
        "print(f\"Percentual de aprovados: {porcento_Aprovados:.2f}%\")\n",
        "print(f\"Percentual de reprovados: {porcento_Reprovados:.2f}%\")\n",
        "print(f\"Média da nota 1: {media_Nota1}\")\n",
        "print(f\"Média da nota 2: {media_Nota2}\")\n",
        "print(f\"Média da média: {media_Media}\")\n"
      ],
      "metadata": {
        "colab": {
          "base_uri": "https://localhost:8080/"
        },
        "id": "CJw0ERqgNn0c",
        "outputId": "20930a29-c31d-411f-b649-f939ba1b2dee"
      },
      "execution_count": 25,
      "outputs": [
        {
          "output_type": "stream",
          "name": "stdout",
          "text": [
            "Digite o número de alunos: 2\n",
            "Digite o nome do aluno 1: kaua\n",
            "Digite a nota 1 do aluno 1 (0~100): 140\n",
            "Digite a nota 2 do aluno 1 (0~100): 100\n",
            "Notas fora do intervalo permitido (0-100). Tente novamente.\n",
            "Digite a nota 1 do aluno 1 (0~100): 100\n",
            "Digite a nota 2 do aluno 1 (0~100): 100\n",
            "Digite o nome do aluno 2: kelvin\n",
            "Digite a nota 1 do aluno 2 (0~100): 50\n",
            "Digite a nota 2 do aluno 2 (0~100): 50\n",
            "Total de aprovados: 1\n",
            "Total de reprovados: 1\n",
            "Percentual de aprovados: 50.00%\n",
            "Percentual de reprovados: 50.00%\n",
            "Média da nota 1: 75.0\n",
            "Média da nota 2: 75.0\n",
            "Média da média: 75.0\n"
          ]
        }
      ]
    }
  ],
  "metadata": {
    "colab": {
      "provenance": [],
      "authorship_tag": "ABX9TyN/Hok5VQuiowCMUBYjax9D",
      "include_colab_link": true
    },
    "kernelspec": {
      "display_name": "Python 3",
      "name": "python3"
    },
    "language_info": {
      "name": "python"
    }
  },
  "nbformat": 4,
  "nbformat_minor": 0
}